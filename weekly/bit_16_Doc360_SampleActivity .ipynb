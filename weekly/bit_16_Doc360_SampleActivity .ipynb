{
 "cells": [
  {
   "cell_type": "markdown",
   "metadata": {},
   "source": [
    "### Doc 360 Sample Activity"
   ]
  },
  {
   "cell_type": "code",
   "execution_count": 1,
   "metadata": {
    "execution": {
     "iopub.execute_input": "2024-05-23T14:11:19.770467Z",
     "iopub.status.busy": "2024-05-23T14:11:19.769206Z",
     "iopub.status.idle": "2024-05-23T14:11:20.303579Z",
     "shell.execute_reply": "2024-05-23T14:11:20.302598Z"
    },
    "jupyter": {
     "source_hidden": true
    }
   },
   "outputs": [],
   "source": [
    "import polars as pl\n",
    "import gc\n",
    "import pandas as pd\n",
    "import json"
   ]
  },
  {
   "cell_type": "code",
   "execution_count": 2,
   "metadata": {
    "execution": {
     "iopub.execute_input": "2024-05-23T14:11:20.308550Z",
     "iopub.status.busy": "2024-05-23T14:11:20.307554Z",
     "iopub.status.idle": "2024-05-23T14:11:20.315594Z",
     "shell.execute_reply": "2024-05-23T14:11:20.312809Z"
    },
    "jupyter": {
     "source_hidden": true
    }
   },
   "outputs": [],
   "source": [
    "# load variables from JSON\n",
    "with open('vars_wk.json', 'r') as json_file:\n",
    "    js = json.load(json_file)\n",
    "roster_file = js['roster_file']\n",
    "num_weeks_calls = js['num_weeks_calls']\n",
    "bucket = js['bucket']\n",
    "\n",
    "dflib = f's3://{bucket}/BIT/dataframes/'\n",
    "rst = f's3://{bucket}/BIT/roster/'"
   ]
  },
  {
   "cell_type": "code",
   "execution_count": 3,
   "metadata": {
    "execution": {
     "iopub.execute_input": "2024-05-23T14:11:20.319083Z",
     "iopub.status.busy": "2024-05-23T14:11:20.318701Z",
     "iopub.status.idle": "2024-05-23T14:11:20.324562Z",
     "shell.execute_reply": "2024-05-23T14:11:20.323587Z"
    },
    "jupyter": {
     "source_hidden": true
    }
   },
   "outputs": [],
   "source": [
    "# Utility Functions -\n",
    "def load(df, lib=dflib):\n",
    "    globals()[df] = pl.read_parquet(f'{lib}{df}.parquet')"
   ]
  },
  {
   "cell_type": "code",
   "execution_count": 4,
   "metadata": {
    "execution": {
     "iopub.execute_input": "2024-05-23T14:11:20.328740Z",
     "iopub.status.busy": "2024-05-23T14:11:20.328306Z",
     "iopub.status.idle": "2024-05-23T14:11:20.614468Z",
     "shell.execute_reply": "2024-05-23T14:11:20.613624Z"
    },
    "jupyter": {
     "source_hidden": true
    }
   },
   "outputs": [],
   "source": [
    "# Importing Dependencies\n",
    "load('temp_samples')\n",
    "roster = (\n",
    "    pl.read_parquet(f'{rst}MasterRoster_{roster_file}.parquet')\n",
    "    .with_columns(\n",
    "        pl.col('SalesRepIID').cast(pl.Int64),\n",
    "        Rep = pl.col('EmpFName')+' '+pl.col('EmpLName')\n",
    "    ).select(['SalesRepIID','Rep'])\n",
    ")\n",
    "\n",
    "#fixes for vortex import -> Probably caused by Polars Upgrades\n",
    "temp_samples = temp_samples.with_columns(pl.col('SalesRepIID').cast(pl.Int64))\n"
   ]
  },
  {
   "cell_type": "code",
   "execution_count": 5,
   "metadata": {
    "execution": {
     "iopub.execute_input": "2024-05-23T14:11:20.618178Z",
     "iopub.status.busy": "2024-05-23T14:11:20.617480Z",
     "iopub.status.idle": "2024-05-23T14:11:20.653442Z",
     "shell.execute_reply": "2024-05-23T14:11:20.652599Z"
    },
    "jupyter": {
     "source_hidden": true
    }
   },
   "outputs": [],
   "source": [
    "# Processing =\n",
    "def get_pid(desc):\n",
    "    if desc == '290 mcg':\n",
    "        return(5)\n",
    "    elif desc =='145 mcg':\n",
    "        return(4)\n",
    "    elif desc =='72 mcg':\n",
    "        return(3)\n",
    "    return(0)\n",
    "\n",
    "temp1 = (\n",
    "    temp_samples\n",
    "    .filter(pl.col('sample_week')<=num_weeks_calls)\n",
    "    .with_columns(pl.col('CallProductDescription').map_elements(get_pid,return_dtype=pl.Int64).alias('Product_id'))\n",
    "    .select(['CallID','AttendeeIID','CallDate','SalesRepIID','CallProductQuantity','Product_id'])\n",
    "    .join(roster,on='SalesRepIID',how='left').drop('SalesRepIID')\n",
    "    .group_by(['CallID','AttendeeIID','CallDate','Product_id','Rep'])\n",
    "    .agg(Quantity=pl.col('CallProductQuantity').sum())\n",
    "    .with_columns(\n",
    "        pl.col('CallID').cast(pl.Int64),\n",
    "        pl.lit(1).alias('Salesforce_id'),\n",
    "    )\n",
    "    .select('CallID','Product_id','AttendeeIID','Salesforce_id','CallDate','Rep','Quantity')\n",
    ")\n",
    "temp1.columns = ['SampleId','Product_id','DoctorId','Salesforce_id','Date','Rep','Quantity']"
   ]
  },
  {
   "cell_type": "code",
   "execution_count": 6,
   "metadata": {
    "execution": {
     "iopub.execute_input": "2024-05-23T14:11:20.657184Z",
     "iopub.status.busy": "2024-05-23T14:11:20.656397Z",
     "iopub.status.idle": "2024-05-23T14:11:21.423951Z",
     "shell.execute_reply": "2024-05-23T14:11:21.423113Z"
    },
    "jupyter": {
     "source_hidden": true
    }
   },
   "outputs": [
    {
     "name": "stdout",
     "output_type": "stream",
     "text": [
      "Doc360_SampleActivity_Feed Exported !\n"
     ]
    }
   ],
   "source": [
    "#Exporting Feeds-\n",
    "OUT = 's3://vortex-staging-a65ced90/BIT/output/Doc360/'\n",
    "temp1.to_pandas().to_csv(f'{OUT}Doc360_SampleActivity_Feed.txt', sep='|')\n",
    "print('Doc360_SampleActivity_Feed Exported !')"
   ]
  }
 ],
 "metadata": {
  "kernelspec": {
   "display_name": "Python 3 (ipykernel)",
   "language": "python",
   "name": "python3"
  },
  "language_info": {
   "codemirror_mode": {
    "name": "ipython",
    "version": 3
   },
   "file_extension": ".py",
   "mimetype": "text/x-python",
   "name": "python",
   "nbconvert_exporter": "python",
   "pygments_lexer": "ipython3",
   "version": "3.10.14"
  }
 },
 "nbformat": 4,
 "nbformat_minor": 4
}
